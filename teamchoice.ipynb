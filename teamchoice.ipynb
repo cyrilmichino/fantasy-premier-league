{
 "cells": [
  {
   "cell_type": "code",
   "execution_count": 1,
   "metadata": {},
   "outputs": [],
   "source": [
    "import pandas as pd"
   ]
  },
  {
   "cell_type": "code",
   "execution_count": 2,
   "metadata": {},
   "outputs": [
    {
     "data": {
      "text/html": [
       "<div>\n",
       "<style scoped>\n",
       "    .dataframe tbody tr th:only-of-type {\n",
       "        vertical-align: middle;\n",
       "    }\n",
       "\n",
       "    .dataframe tbody tr th {\n",
       "        vertical-align: top;\n",
       "    }\n",
       "\n",
       "    .dataframe thead th {\n",
       "        text-align: right;\n",
       "    }\n",
       "</style>\n",
       "<table border=\"1\" class=\"dataframe\">\n",
       "  <thead>\n",
       "    <tr style=\"text-align: right;\">\n",
       "      <th></th>\n",
       "      <th>first_name</th>\n",
       "      <th>second_name</th>\n",
       "      <th>goals_scored</th>\n",
       "      <th>assists</th>\n",
       "      <th>total_points</th>\n",
       "      <th>minutes</th>\n",
       "      <th>goals_conceded</th>\n",
       "      <th>creativity</th>\n",
       "      <th>influence</th>\n",
       "      <th>threat</th>\n",
       "      <th>bonus</th>\n",
       "      <th>bps</th>\n",
       "      <th>ict_index</th>\n",
       "      <th>clean_sheets</th>\n",
       "      <th>red_cards</th>\n",
       "      <th>yellow_cards</th>\n",
       "      <th>selected_by_percent</th>\n",
       "      <th>now_cost</th>\n",
       "      <th>element_type</th>\n",
       "    </tr>\n",
       "  </thead>\n",
       "  <tbody>\n",
       "    <tr>\n",
       "      <th>0</th>\n",
       "      <td>Folarin</td>\n",
       "      <td>Balogun</td>\n",
       "      <td>0</td>\n",
       "      <td>0</td>\n",
       "      <td>0</td>\n",
       "      <td>0</td>\n",
       "      <td>0</td>\n",
       "      <td>0.0</td>\n",
       "      <td>0.0</td>\n",
       "      <td>0.0</td>\n",
       "      <td>0</td>\n",
       "      <td>0</td>\n",
       "      <td>0.0</td>\n",
       "      <td>0</td>\n",
       "      <td>0</td>\n",
       "      <td>0</td>\n",
       "      <td>0.2</td>\n",
       "      <td>44</td>\n",
       "      <td>FWD</td>\n",
       "    </tr>\n",
       "    <tr>\n",
       "      <th>1</th>\n",
       "      <td>Cédric</td>\n",
       "      <td>Alves Soares</td>\n",
       "      <td>0</td>\n",
       "      <td>0</td>\n",
       "      <td>3</td>\n",
       "      <td>59</td>\n",
       "      <td>0</td>\n",
       "      <td>4.3</td>\n",
       "      <td>2.0</td>\n",
       "      <td>0.0</td>\n",
       "      <td>0</td>\n",
       "      <td>15</td>\n",
       "      <td>0.6</td>\n",
       "      <td>0</td>\n",
       "      <td>0</td>\n",
       "      <td>0</td>\n",
       "      <td>0.5</td>\n",
       "      <td>38</td>\n",
       "      <td>DEF</td>\n",
       "    </tr>\n",
       "    <tr>\n",
       "      <th>2</th>\n",
       "      <td>Mohamed</td>\n",
       "      <td>Elneny</td>\n",
       "      <td>0</td>\n",
       "      <td>1</td>\n",
       "      <td>6</td>\n",
       "      <td>25</td>\n",
       "      <td>0</td>\n",
       "      <td>2.1</td>\n",
       "      <td>4.0</td>\n",
       "      <td>10.0</td>\n",
       "      <td>0</td>\n",
       "      <td>16</td>\n",
       "      <td>1.6</td>\n",
       "      <td>0</td>\n",
       "      <td>0</td>\n",
       "      <td>0</td>\n",
       "      <td>0.1</td>\n",
       "      <td>44</td>\n",
       "      <td>MID</td>\n",
       "    </tr>\n",
       "    <tr>\n",
       "      <th>3</th>\n",
       "      <td>Fábio</td>\n",
       "      <td>Ferreira Vieira</td>\n",
       "      <td>1</td>\n",
       "      <td>3</td>\n",
       "      <td>24</td>\n",
       "      <td>290</td>\n",
       "      <td>2</td>\n",
       "      <td>88.8</td>\n",
       "      <td>82.8</td>\n",
       "      <td>85.0</td>\n",
       "      <td>0</td>\n",
       "      <td>67</td>\n",
       "      <td>25.5</td>\n",
       "      <td>1</td>\n",
       "      <td>1</td>\n",
       "      <td>0</td>\n",
       "      <td>0.1</td>\n",
       "      <td>54</td>\n",
       "      <td>MID</td>\n",
       "    </tr>\n",
       "    <tr>\n",
       "      <th>4</th>\n",
       "      <td>Gabriel</td>\n",
       "      <td>dos Santos Magalhães</td>\n",
       "      <td>3</td>\n",
       "      <td>1</td>\n",
       "      <td>149</td>\n",
       "      <td>3042</td>\n",
       "      <td>26</td>\n",
       "      <td>121.9</td>\n",
       "      <td>675.8</td>\n",
       "      <td>379.0</td>\n",
       "      <td>8</td>\n",
       "      <td>676</td>\n",
       "      <td>117.9</td>\n",
       "      <td>16</td>\n",
       "      <td>0</td>\n",
       "      <td>4</td>\n",
       "      <td>28.3</td>\n",
       "      <td>54</td>\n",
       "      <td>DEF</td>\n",
       "    </tr>\n",
       "  </tbody>\n",
       "</table>\n",
       "</div>"
      ],
      "text/plain": [
       "  first_name           second_name  goals_scored  assists  total_points  \\\n",
       "0    Folarin               Balogun             0        0             0   \n",
       "1     Cédric          Alves Soares             0        0             3   \n",
       "2    Mohamed                Elneny             0        1             6   \n",
       "3      Fábio       Ferreira Vieira             1        3            24   \n",
       "4    Gabriel  dos Santos Magalhães             3        1           149   \n",
       "\n",
       "   minutes  goals_conceded  creativity  influence  threat  bonus  bps  \\\n",
       "0        0               0         0.0        0.0     0.0      0    0   \n",
       "1       59               0         4.3        2.0     0.0      0   15   \n",
       "2       25               0         2.1        4.0    10.0      0   16   \n",
       "3      290               2        88.8       82.8    85.0      0   67   \n",
       "4     3042              26       121.9      675.8   379.0      8  676   \n",
       "\n",
       "   ict_index  clean_sheets  red_cards  yellow_cards  selected_by_percent  \\\n",
       "0        0.0             0          0             0                  0.2   \n",
       "1        0.6             0          0             0                  0.5   \n",
       "2        1.6             0          0             0                  0.1   \n",
       "3       25.5             1          1             0                  0.1   \n",
       "4      117.9            16          0             4                 28.3   \n",
       "\n",
       "   now_cost element_type  \n",
       "0        44          FWD  \n",
       "1        38          DEF  \n",
       "2        44          MID  \n",
       "3        54          MID  \n",
       "4        54          DEF  "
      ]
     },
     "execution_count": 2,
     "metadata": {},
     "output_type": "execute_result"
    }
   ],
   "source": [
    "url = \"https://raw.githubusercontent.com/vaastav/Fantasy-Premier-League/master/data/2023-24/cleaned_players.csv\"\n",
    "df = pd.read_csv(url)\n",
    "df.head()"
   ]
  },
  {
   "cell_type": "code",
   "execution_count": 11,
   "metadata": {},
   "outputs": [
    {
     "data": {
      "text/plain": [
       "(278, 2)"
      ]
     },
     "execution_count": 11,
     "metadata": {},
     "output_type": "execute_result"
    }
   ],
   "source": [
    "DEF = df[['total_points', 'now_cost']][df.element_type == \"DEF\"]\n",
    "DEF.shape"
   ]
  },
  {
   "cell_type": "code",
   "execution_count": 12,
   "metadata": {},
   "outputs": [
    {
     "data": {
      "text/plain": [
       "(374, 2)"
      ]
     },
     "execution_count": 12,
     "metadata": {},
     "output_type": "execute_result"
    }
   ],
   "source": [
    "MID = df[['total_points', 'now_cost']][df.element_type == \"MID\"]\n",
    "MID.shape"
   ]
  },
  {
   "cell_type": "code",
   "execution_count": 13,
   "metadata": {},
   "outputs": [
    {
     "data": {
      "text/plain": [
       "(113, 2)"
      ]
     },
     "execution_count": 13,
     "metadata": {},
     "output_type": "execute_result"
    }
   ],
   "source": [
    "FWD = df[['total_points', 'now_cost']][df.element_type == \"FWD\"]\n",
    "FWD.shape"
   ]
  },
  {
   "cell_type": "code",
   "execution_count": 14,
   "metadata": {},
   "outputs": [
    {
     "data": {
      "text/plain": [
       "(100, 2)"
      ]
     },
     "execution_count": 14,
     "metadata": {},
     "output_type": "execute_result"
    }
   ],
   "source": [
    "GK = df[['total_points', 'now_cost']][df.element_type == \"GK\"]\n",
    "GK.shape"
   ]
  },
  {
   "cell_type": "code",
   "execution_count": null,
   "metadata": {},
   "outputs": [],
   "source": [
    "def coinchange2(coins,amount):\n",
    "    if amount == 0:\n",
    "        return 0\n",
    "    if len(coins) == 1:\n",
    "            if coins[0] == amount:\n",
    "                return 1\n",
    "            if amount%coins[0] == 0:\n",
    "                return amount//coins[0]\n",
    "            else:\n",
    "                return float('inf')\n",
    "    \n",
    "    dp = [0]*(amount+1)\n",
    "    for i in range(1,amount+1):\n",
    "        min_ = float('inf')\n",
    "        for coin in coins:\n",
    "            if coin <= i and i-coin>=0:\n",
    "                min_ = min(1+dp[i-coin],min_)\n",
    "\n",
    "        dp[i] = min_\n",
    "\n",
    "    return dp[-1]"
   ]
  },
  {
   "cell_type": "code",
   "execution_count": null,
   "metadata": {},
   "outputs": [],
   "source": [
    "def playerchoice(players, points, cost, budget, slots):\n",
    "    players = list()\n",
    "\n",
    "    if budget == 0:\n",
    "        return 0\n",
    "    \n",
    "    if len(points) == 1:\n",
    "        if cost[0] <= budget and slots == 1:\n",
    "            return (points[0], players.append(players[0]))\n",
    "        if cost[0] > budget:\n",
    "            return ()"
   ]
  }
 ],
 "metadata": {
  "kernelspec": {
   "display_name": "Python 3",
   "language": "python",
   "name": "python3"
  },
  "language_info": {
   "codemirror_mode": {
    "name": "ipython",
    "version": 3
   },
   "file_extension": ".py",
   "mimetype": "text/x-python",
   "name": "python",
   "nbconvert_exporter": "python",
   "pygments_lexer": "ipython3",
   "version": "3.12.1"
  }
 },
 "nbformat": 4,
 "nbformat_minor": 2
}
